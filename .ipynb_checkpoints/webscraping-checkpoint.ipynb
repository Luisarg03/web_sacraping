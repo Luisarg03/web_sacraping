{
 "cells": [
  {
   "cell_type": "code",
<<<<<<< HEAD
   "execution_count": 1,
=======
   "execution_count": 40,
>>>>>>> upgrade
   "metadata": {},
   "outputs": [],
   "source": [
    "import requests\n",
<<<<<<< HEAD
    "from bs4 import BeautifulSoup\n",
    "import csv\n",
=======
    "import csv\n",
    "import pandas as pd\n",
    "from bs4 import BeautifulSoup\n",
>>>>>>> upgrade
    "from datetime import datetime"
   ]
  },
  {
   "cell_type": "code",
<<<<<<< HEAD
   "execution_count": 2,
=======
   "execution_count": 41,
>>>>>>> upgrade
   "metadata": {},
   "outputs": [],
   "source": [
    "url = 'http://www.bolsamadrid.es/esp/aspx/Indices/Resumen.aspx'"
   ]
  },
  {
   "cell_type": "code",
<<<<<<< HEAD
   "execution_count": 3,
=======
   "execution_count": 42,
>>>>>>> upgrade
   "metadata": {},
   "outputs": [],
   "source": [
    "page = requests.get(url).text"
   ]
  },
  {
   "cell_type": "code",
<<<<<<< HEAD
   "execution_count": 4,
=======
   "execution_count": 43,
>>>>>>> upgrade
   "metadata": {},
   "outputs": [],
   "source": [
    "soup = BeautifulSoup(page, 'lxml')"
   ]
  },
  {
   "cell_type": "code",
<<<<<<< HEAD
   "execution_count": 20,
   "metadata": {},
   "outputs": [
    {
     "data": {
      "text/plain": [
       "<table align=\"Center\" cellpadding=\"3\" cellspacing=\"0\" class=\"TblPort\" id=\"ctl00_Contenido_tblÍndices\" style=\"margin-bottom: 20px;\" width=\"85%\">\n",
       "<tr align=\"center\">\n",
       "<th scope=\"col\">Nombre</th><th scope=\"col\">Anterior</th><th scope=\"col\">Último</th><th scope=\"col\">% Dif.</th><th scope=\"col\">Máximo</th><th scope=\"col\">Mínimo</th><th scope=\"col\">Fecha</th><th scope=\"col\">Hora</th><th class=\"Ult\" scope=\"col\">% Dif.<br/>Año 2019</th>\n",
       "</tr><tr align=\"right\">\n",
       "<td align=\"left\" class=\"DifFlSb\">IBEX 35®</td><td>9.329,80</td><td>9.402,30</td><td class=\"DifClSb\">0,78</td><td>9.424,30</td><td>9.342,10</td><td align=\"center\">21/10/2019</td><td align=\"center\">17:38:01</td><td class=\"DifClSb Ult\">10,10</td>\n",
       "</tr><tr align=\"right\">\n",
       "<td align=\"left\" class=\"DifFlSb\">IBEX 35® con Dividendos</td><td>26.850,90</td><td>27.059,60</td><td class=\"DifClSb\">0,78</td><td>27.122,80</td><td>26.886,40</td><td align=\"center\">21/10/2019</td><td align=\"center\">17:38:01</td><td class=\"DifClSb Ult\">13,51</td>\n",
       "</tr><tr align=\"right\">\n",
       "<td align=\"left\" class=\"DifFlSb\">IBEX MEDIUM CAP®</td><td>12.807,10</td><td>12.902,40</td><td class=\"DifClSb\">0,74</td><td>12.915,60</td><td>12.813,20</td><td align=\"center\">21/10/2019</td><td align=\"center\">17:38:00</td><td class=\"DifClBj Ult\">-0,71</td>\n",
       "</tr><tr align=\"right\">\n",
       "<td align=\"left\" class=\"DifFlSb\">IBEX SMALL CAP®</td><td>6.512,70</td><td>6.530,90</td><td class=\"DifClSb\">0,28</td><td>6.534,60</td><td>6.487,60</td><td align=\"center\">21/10/2019</td><td align=\"center\">17:38:01</td><td class=\"DifClSb Ult\">7,30</td>\n",
       "</tr><tr align=\"right\">\n",
       "<td align=\"left\" class=\"DifFlSb\">IBEX 35® Bancos</td><td>507,90</td><td>522,20</td><td class=\"DifClSb\">2,82</td><td>524,10</td><td>510,70</td><td align=\"center\">21/10/2019</td><td align=\"center\">17:38:01</td><td class=\"DifClBj Ult\">-2,48</td>\n",
       "</tr><tr align=\"right\">\n",
       "<td align=\"left\" class=\"DifFlBj\">IBEX 35® Energía</td><td>1.366,60</td><td>1.362,10</td><td class=\"DifClBj\">-0,33</td><td>1.370,30</td><td>1.358,00</td><td align=\"center\">21/10/2019</td><td align=\"center\">17:38:01</td><td class=\"DifClSb Ult\">13,22</td>\n",
       "</tr><tr align=\"right\">\n",
       "<td align=\"left\" class=\"DifFlSb\">IBEX 35® Construcción</td><td>1.550,10</td><td>1.558,70</td><td class=\"DifClSb\">0,55</td><td>1.563,90</td><td>1.548,00</td><td align=\"center\">21/10/2019</td><td align=\"center\">17:38:01</td><td class=\"DifClSb Ult\">25,98</td>\n",
       "</tr><tr align=\"right\">\n",
       "<td align=\"left\" class=\"DifFlSb\">IBEX TOP Dividendo®</td><td>2.779,50</td><td>2.804,10</td><td class=\"DifClSb\">0,89</td><td>2.809,30</td><td>2.774,30</td><td align=\"center\">21/10/2019</td><td align=\"center\">17:38:01</td><td class=\"DifClSb Ult\">2,57</td>\n",
       "</tr><tr align=\"right\">\n",
       "<td align=\"left\" class=\"DifFlSb\">IBEX 35® con Dividendos Netos</td><td>22.730,80</td><td>22.907,40</td><td class=\"DifClSb\">0,78</td><td>22.961,00</td><td>22.760,80</td><td align=\"center\">21/10/2019</td><td align=\"center\">17:38:01</td><td class=\"DifClSb Ult\">12,86</td>\n",
       "</tr><tr align=\"right\">\n",
       "<td align=\"left\" class=\"DifFlBj\">IBEX 35® Inverso</td><td>2.543,80</td><td>2.524,00</td><td class=\"DifClBj\">-0,78</td><td>2.540,40</td><td>2.518,00</td><td align=\"center\">21/10/2019</td><td align=\"center\">17:38:01</td><td class=\"DifClBj Ult\">-13,26</td>\n",
       "</tr><tr align=\"right\">\n",
       "<td align=\"left\" class=\"DifFlBj\">IBEX 35® Doble Inverso</td><td>369,90</td><td>364,10</td><td class=\"DifClBj\">-1,57</td><td>368,90</td><td>362,40</td><td align=\"center\">21/10/2019</td><td align=\"center\">17:38:01</td><td class=\"DifClBj Ult\">-25,78</td>\n",
       "</tr><tr align=\"right\">\n",
       "<td align=\"left\" class=\"DifFlBj\">IBEX 35® Triple Inverso</td><td>23,70</td><td>23,10</td><td class=\"DifClBj\">-2,53</td><td>23,60</td><td>23,00</td><td align=\"center\">21/10/2019</td><td align=\"center\">17:38:01</td><td class=\"DifClBj Ult\">-37,57</td>\n",
       "</tr><tr align=\"right\">\n",
       "<td align=\"left\" class=\"DifFlBj\">IBEX 35® Inverso X5</td><td>8.621,40</td><td>8.285,50</td><td class=\"DifClBj\">-3,90</td><td>8.563,50</td><td>8.184,00</td><td align=\"center\">21/10/2019</td><td align=\"center\">17:38:01</td><td class=\"DifClSb Ult\">745,96</td>\n",
       "</tr><tr align=\"right\">\n",
       "<td align=\"left\" class=\"DifFlBj\">IBEX 35® Inverso X10</td><td>180,80</td><td>166,70</td><td class=\"DifClBj\">-7,80</td><td>178,40</td><td>162,50</td><td align=\"center\">21/10/2019</td><td align=\"center\">17:38:01</td><td class=\"DifClBj Ult\">-86,84</td>\n",
       "</tr><tr align=\"right\">\n",
       "<td align=\"left\" class=\"DifFlSb\">IBEX 35® Doble Apalancado</td><td>5.315,60</td><td>5.398,10</td><td class=\"DifClSb\">1,55</td><td>5.423,20</td><td>5.329,50</td><td align=\"center\">21/10/2019</td><td align=\"center\">17:38:01</td><td class=\"DifClSb Ult\">19,38</td>\n",
       "</tr><tr align=\"right\">\n",
       "<td align=\"left\" class=\"DifFlSb\">IBEX 35® Doble Apalancado Bruto</td><td>22.081,60</td><td>22.424,50</td><td class=\"DifClSb\">1,55</td><td>22.528,40</td><td>22.139,60</td><td align=\"center\">21/10/2019</td><td align=\"center\">17:38:01</td><td class=\"DifClSb Ult\">26,88</td>\n",
       "</tr><tr align=\"right\">\n",
       "<td align=\"left\" class=\"DifFlSb\">IBEX 35® Doble Apalancado Neto</td><td>18.785,70</td><td>19.077,30</td><td class=\"DifClSb\">1,55</td><td>19.165,90</td><td>18.835,00</td><td align=\"center\">21/10/2019</td><td align=\"center\">17:38:01</td><td class=\"DifClSb Ult\">25,43</td>\n",
       "</tr><tr align=\"right\">\n",
       "<td align=\"left\" class=\"DifFlSb\">IBEX 35® Triple Apalancado</td><td>1.056,60</td><td>1.081,20</td><td class=\"DifClSb\">2,33</td><td>1.088,70</td><td>1.060,70</td><td align=\"center\">21/10/2019</td><td align=\"center\">17:38:01</td><td class=\"DifClSb Ult\">27,76</td>\n",
       "</tr><tr align=\"right\">\n",
       "<td align=\"left\" class=\"DifFlSb\">IBEX 35® Triple Apalancado Neto</td><td>10.749,20</td><td>10.999,40</td><td class=\"DifClSb\">2,33</td><td>11.075,40</td><td>10.791,40</td><td align=\"center\">21/10/2019</td><td align=\"center\">17:38:01</td><td class=\"DifClSb Ult\">37,54</td>\n",
       "</tr><tr align=\"right\">\n",
       "<td align=\"left\" class=\"DifFlSb\">IBEX 35® Apalancado Neto X5</td><td>2.011,00</td><td>2.089,00</td><td class=\"DifClSb\">3,88</td><td>2.112,70</td><td>2.024,10</td><td align=\"center\">21/10/2019</td><td align=\"center\">17:38:01</td><td class=\"DifClSb Ult\">58,82</td>\n",
       "</tr><tr align=\"right\">\n",
       "<td align=\"left\" class=\"DifFlSb\">IBEX 35® Apalancado Neto X10</td><td>1.502,90</td><td>1.619,40</td><td class=\"DifClSb\">7,75</td><td>1.654,90</td><td>1.522,50</td><td align=\"center\">21/10/2019</td><td align=\"center\">17:38:01</td><td class=\"DifClSb Ult\">78,51</td>\n",
       "</tr><tr align=\"right\">\n",
       "<td align=\"left\" class=\"DifFlSb\">IBEX 35® Capped Net Return</td><td>22.793,00</td><td>22.970,10</td><td class=\"DifClSb\">0,78</td><td>23.023,80</td><td>22.823,10</td><td align=\"center\">21/10/2019</td><td align=\"center\">17:38:01</td><td class=\"DifClSb Ult\">12,86</td>\n",
       "</tr><tr align=\"right\">\n",
       "<td align=\"left\" class=\"DifFlIg\">IBEX 35® Impacto Div</td><td>303,00</td><td>303,00</td><td class=\"DifClIg\">- </td><td>303,00</td><td>303,00</td><td align=\"center\">21/10/2019</td><td align=\"center\">17:38:01</td><td class=\"DifClIg Ult\">- </td>\n",
       "</tr><tr align=\"right\">\n",
       "<td align=\"left\" class=\"DifFlSb\">IBEX 35® Volatilidad Objetivo 10% Estándar</td><td>183,80</td><td>184,80</td><td class=\"DifClSb\">0,54</td><td>185,00</td><td>184,00</td><td align=\"center\">21/10/2019</td><td align=\"center\">17:38:01</td><td class=\"DifClSb Ult\">6,88</td>\n",
       "</tr><tr align=\"right\">\n",
       "<td align=\"left\" class=\"DifFlSb\">IBEX 35® Volatilidad Objetivo 12% Estándar</td><td>191,30</td><td>192,50</td><td class=\"DifClSb\">0,63</td><td>192,90</td><td>191,50</td><td align=\"center\">21/10/2019</td><td align=\"center\">17:38:01</td><td class=\"DifClSb Ult\">8,27</td>\n",
       "</tr><tr align=\"right\">\n",
       "<td align=\"left\" class=\"DifFlSb\">IBEX 35® Volatilidad Objetivo 15% Estándar</td><td>197,30</td><td>198,80</td><td class=\"DifClSb\">0,76</td><td>199,30</td><td>197,60</td><td align=\"center\">21/10/2019</td><td align=\"center\">17:38:01</td><td class=\"DifClSb Ult\">10,14</td>\n",
       "</tr><tr align=\"right\">\n",
       "<td align=\"left\" class=\"DifFlSb\">IBEX 35® Volatilidad Objetivo 18% Estándar</td><td>199,10</td><td>201,00</td><td class=\"DifClSb\">0,95</td><td>201,50</td><td>199,40</td><td align=\"center\">21/10/2019</td><td align=\"center\">17:38:01</td><td class=\"DifClSb Ult\">12,98</td>\n",
       "</tr><tr align=\"right\">\n",
       "<td align=\"left\" class=\"DifFlSb\">IBEX 35® Volatilidad Objetivo 10% Financiado</td><td>132,50</td><td>133,20</td><td class=\"DifClSb\">0,53</td><td>133,40</td><td>132,60</td><td align=\"center\">21/10/2019</td><td align=\"center\">17:38:01</td><td class=\"DifClSb Ult\">6,73</td>\n",
       "</tr><tr align=\"right\">\n",
       "<td align=\"left\" class=\"DifFlSb\">IBEX 35® Volatilidad Objetivo 12% Financiado</td><td>135,80</td><td>136,60</td><td class=\"DifClSb\">0,59</td><td>136,90</td><td>135,90</td><td align=\"center\">21/10/2019</td><td align=\"center\">17:38:01</td><td class=\"DifClSb Ult\">8,24</td>\n",
       "</tr><tr align=\"right\">\n",
       "<td align=\"left\" class=\"DifFlSb\">IBEX 35® Volatilidad Objetivo 15% Financiado</td><td>144,60</td><td>145,70</td><td class=\"DifClSb\">0,76</td><td>146,10</td><td>144,80</td><td align=\"center\">21/10/2019</td><td align=\"center\">17:38:01</td><td class=\"DifClSb Ult\">9,96</td>\n",
       "</tr><tr align=\"right\">\n",
       "<td align=\"left\" class=\"DifFlSb\">IBEX 35® Volatilidad Objetivo 18% Financiado</td><td>139,70</td><td>141,00</td><td class=\"DifClSb\">0,93</td><td>141,40</td><td>139,90</td><td align=\"center\">21/10/2019</td><td align=\"center\">17:38:01</td><td class=\"DifClSb Ult\">12,62</td>\n",
       "</tr><tr align=\"right\">\n",
       "<td align=\"left\" class=\"DifFlSb\">VIBEX®</td><td>13,35</td><td>13,49</td><td class=\"DifClSb\">1,05</td><td>13,49</td><td>13,49</td><td align=\"center\">21/10/2019</td><td align=\"center\"> </td><td class=\"DifClBj Ult\">-36,16</td>\n",
       "</tr><tr align=\"right\">\n",
       "<td align=\"left\" class=\"DifFlSb\">IBEX 35® Skew</td><td>5,20</td><td>5,54</td><td class=\"DifClSb\">6,54</td><td>5,54</td><td>5,54</td><td align=\"center\">21/10/2019</td><td align=\"center\"> </td><td class=\"DifClSb Ult\">0,36</td>\n",
       "</tr><tr align=\"right\">\n",
       "<td align=\"left\" class=\"DifFlSb\">IBEX 35® BuyWrite</td><td>1.616,08</td><td>1.625,51</td><td class=\"DifClSb\">0,58</td><td>1.625,51</td><td>1.625,51</td><td align=\"center\">21/10/2019</td><td align=\"center\"> </td><td class=\"DifClSb Ult\">9,22</td>\n",
       "</tr><tr align=\"right\">\n",
       "<td align=\"left\" class=\"DifFlSb\">IBEX 35® PutWrite</td><td>1.618,02</td><td>1.622,02</td><td class=\"DifClSb\">0,25</td><td>1.622,02</td><td>1.622,02</td><td align=\"center\">21/10/2019</td><td align=\"center\"> </td><td class=\"DifClSb Ult\">1,75</td>\n",
       "</tr><tr align=\"right\">\n",
       "<td align=\"left\" class=\"DifFlSb\">IBEX 35® Protective Put</td><td>590,29</td><td>593,23</td><td class=\"DifClSb\">0,50</td><td>593,23</td><td>593,23</td><td align=\"center\">21/10/2019</td><td align=\"center\"> </td><td class=\"DifClSb Ult\">10,25</td>\n",
       "</tr><tr align=\"right\">\n",
       "<td align=\"left\" class=\"DifFlSb\">IBEX 35® Venta de Strangle</td><td>2.061,38</td><td>2.063,15</td><td class=\"DifClSb\">0,09</td><td>2.063,15</td><td>2.063,15</td><td align=\"center\">21/10/2019</td><td align=\"center\"> </td><td class=\"DifClBj Ult\">-2,15</td>\n",
       "</tr><tr align=\"right\">\n",
       "<td align=\"left\" class=\"DifFlSb\">IBEX TOP Dividendo® Rentabilidad</td><td>6.831,70</td><td>6.892,30</td><td class=\"DifClSb\">0,89</td><td>6.904,90</td><td>6.818,90</td><td align=\"center\">21/10/2019</td><td align=\"center\">17:38:01</td><td class=\"DifClSb Ult\">6,61</td>\n",
       "</tr><tr align=\"right\">\n",
       "<td align=\"left\" class=\"DifFlSb\">IBEX TOP Dividendo® Rentabilidad Neta</td><td>5.755,90</td><td>5.806,90</td><td class=\"DifClSb\">0,89</td><td>5.817,50</td><td>5.745,10</td><td align=\"center\">21/10/2019</td><td align=\"center\">17:38:01</td><td class=\"DifClSb Ult\">5,86</td>\n",
       "</tr><tr align=\"right\">\n",
       "<td align=\"left\" class=\"DifFlSb\">IBEX MEDIUM CAP® con Dividendos</td><td>13.829,90</td><td>13.932,80</td><td class=\"DifClSb\">0,74</td><td>13.947,00</td><td>13.836,50</td><td align=\"center\">21/10/2019</td><td align=\"center\">17:38:00</td><td class=\"DifClSb Ult\">1,91</td>\n",
       "</tr><tr align=\"right\">\n",
       "<td align=\"left\" class=\"DifFlSb\">IBEX MEDIUM CAP® con Dividendos Netos</td><td>12.961,40</td><td>13.057,80</td><td class=\"DifClSb\">0,74</td><td>13.071,10</td><td>12.967,50</td><td align=\"center\">21/10/2019</td><td align=\"center\">17:38:00</td><td class=\"DifClSb Ult\">1,41</td>\n",
       "</tr><tr align=\"right\">\n",
       "<td align=\"left\" class=\"DifFlSb\">IBEX SMALL CAP® con Dividendos</td><td>9.385,90</td><td>9.412,10</td><td class=\"DifClSb\">0,28</td><td>9.417,50</td><td>9.349,70</td><td align=\"center\">21/10/2019</td><td align=\"center\">17:38:01</td><td class=\"DifClSb Ult\">9,22</td>\n",
       "</tr><tr align=\"right\">\n",
       "<td align=\"left\" class=\"DifFlSb\">IBEX SMALL CAP® con Dividendos Netos</td><td>9.080,70</td><td>9.106,10</td><td class=\"DifClSb\">0,28</td><td>9.111,30</td><td>9.045,70</td><td align=\"center\">21/10/2019</td><td align=\"center\">17:38:01</td><td class=\"DifClSb Ult\">8,90</td>\n",
       "</tr><tr align=\"right\">\n",
       "<td align=\"left\" class=\"DifFlSb\">IBEX MAB® 15</td><td>1.189,30</td><td>1.198,00</td><td class=\"DifClSb\">0,73</td><td>1.205,70</td><td>1.187,60</td><td align=\"center\">21/10/2019</td><td align=\"center\">17:39:00</td><td class=\"DifClSb Ult\">32,00</td>\n",
       "</tr><tr align=\"right\">\n",
       "<td align=\"left\" class=\"DifFlSb\">IBEX MAB® All Share</td><td>1.055,40</td><td>1.060,00</td><td class=\"DifClSb\">0,44</td><td>1.065,40</td><td>1.053,60</td><td align=\"center\">21/10/2019</td><td align=\"center\">17:39:00</td><td class=\"DifClSb Ult\">13,53</td>\n",
       "</tr><tr align=\"right\">\n",
       "<td align=\"left\" class=\"DifFlSb\">FTSE4Good IBEX</td><td>9.496,70</td><td>9.571,90</td><td class=\"DifClSb\">0,79</td><td>9.594,90</td><td>9.507,90</td><td align=\"center\">21/10/2019</td><td align=\"center\">17:38:01</td><td class=\"DifClSb Ult\">8,11</td>\n",
       "</tr><tr align=\"right\">\n",
       "<td align=\"left\" class=\"DifFlSb\">FTSE4Good IBEX Total Return</td><td>20.005,30</td><td>20.163,80</td><td class=\"DifClSb\">0,79</td><td>20.212,10</td><td>20.028,90</td><td align=\"center\">21/10/2019</td><td align=\"center\">17:38:01</td><td class=\"DifClSb Ult\">11,44</td>\n",
       "</tr><tr align=\"right\">\n",
       "<td align=\"left\" class=\"DifFlSb\">FTSE4Good IBEX Net Return</td><td>17.894,80</td><td>18.036,50</td><td class=\"DifClSb\">0,79</td><td>18.079,80</td><td>17.915,90</td><td align=\"center\">21/10/2019</td><td align=\"center\">17:38:01</td><td class=\"DifClSb Ult\">10,80</td>\n",
       "</tr><tr align=\"right\">\n",
       "<td align=\"left\" class=\"DifFlSb\">FTSE Latibex All Share</td><td>2.330,30</td><td>2.330,70</td><td class=\"DifClSb\">0,02</td><td>2.336,10</td><td>2.329,20</td><td align=\"center\">21/10/2019</td><td align=\"center\">17:38:00</td><td class=\"DifClSb Ult\">6,99</td>\n",
       "</tr><tr align=\"right\">\n",
       "<td align=\"left\" class=\"DifFlBj\">FTSE Latibex TOP</td><td>4.900,70</td><td>4.897,30</td><td class=\"DifClBj\">-0,07</td><td>4.900,70</td><td>4.891,70</td><td align=\"center\">21/10/2019</td><td align=\"center\">17:38:00</td><td class=\"DifClSb Ult\">4,71</td>\n",
       "</tr><tr align=\"right\">\n",
       "<td align=\"left\" class=\"DifFlBj\">FTSE Latibex BRASIL</td><td>10.570,50</td><td>10.541,60</td><td class=\"DifClBj\">-0,27</td><td>10.570,50</td><td>10.541,60</td><td align=\"center\">21/10/2019</td><td align=\"center\">17:38:00</td><td class=\"DifClSb Ult\">2,43</td>\n",
       "</tr><tr align=\"right\">\n",
       "<td align=\"left\" class=\"DifFlSb\">I.G.B.M.</td><td>930,38</td><td>938,29</td><td class=\"DifClSb\">0,85</td><td>940,18</td><td>932,52</td><td align=\"center\">21/10/2019</td><td align=\"center\">17:38:00</td><td class=\"DifClSb Ult\">8,77</td>\n",
       "</tr><tr align=\"right\">\n",
       "<td align=\"left\" class=\"DifFlSb\">I.G.B.M. Total</td><td>3.731,12</td><td>3.762,79</td><td class=\"DifClSb\">0,85</td><td>3.762,79</td><td>3.762,79</td><td align=\"center\">21/10/2019</td><td align=\"center\">17:38:00</td><td class=\"DifClSb Ult\">12,58</td>\n",
       "</tr><tr align=\"right\">\n",
       "<td align=\"left\" class=\"DifFlSb\">BCN GLOBAL 100 (Base 1986)</td><td>713,14</td><td>720,97</td><td class=\"DifClSb\">1,10</td><td>723,00</td><td>714,91</td><td align=\"center\">21/10/2019</td><td align=\"center\">17:38:00</td><td class=\"DifClSb Ult\">7,57</td>\n",
       "</tr><tr align=\"right\">\n",
       "<td align=\"left\" class=\"DifFlSb\">BCN GLOBAL 100 (Base 1963)</td><td>1.832,90</td><td>1.853,01</td><td class=\"DifClSb\">1,10</td><td>1.858,23</td><td>1.837,44</td><td align=\"center\">21/10/2019</td><td align=\"center\">17:38:00</td><td class=\"DifClSb Ult\">7,57</td>\n",
       "</tr><tr align=\"right\">\n",
       "<td align=\"left\" class=\"DifFlSb\">BCN MID 50</td><td>21.798,82</td><td>21.922,00</td><td class=\"DifClSb\">0,57</td><td>21.938,23</td><td>21.747,48</td><td align=\"center\">21/10/2019</td><td align=\"center\">17:38:00</td><td class=\"DifClSb Ult\">8,44</td>\n",
       "</tr><tr align=\"right\">\n",
       "<td align=\"left\" class=\"DifFlSb\">BCN PROFIT-30</td><td>12.959,36</td><td>13.106,74</td><td class=\"DifClSb\">1,14</td><td>13.136,10</td><td>12.988,52</td><td align=\"center\">21/10/2019</td><td align=\"center\">17:38:00</td><td class=\"DifClSb Ult\">2,67</td>\n",
       "</tr><tr align=\"right\">\n",
       "<td align=\"left\" class=\"DifFlSb\">BCN ROE-30</td><td>19.960,37</td><td>20.146,48</td><td class=\"DifClSb\">0,93</td><td>20.176,30</td><td>19.926,53</td><td align=\"center\">21/10/2019</td><td align=\"center\">17:38:00</td><td class=\"DifClSb Ult\">2,54</td>\n",
       "</tr><tr align=\"right\">\n",
       "<td align=\"left\" class=\"DifFlSb\">BCN PER-30</td><td>20.767,88</td><td>21.094,97</td><td class=\"DifClSb\">1,57</td><td>21.140,20</td><td>20.793,25</td><td align=\"center\">21/10/2019</td><td align=\"center\">17:38:00</td><td class=\"DifClSb Ult\">0,09</td>\n",
       "</tr><tr align=\"right\">\n",
       "<td align=\"left\" class=\"DifFlSb\">BCN INDEXCAT</td><td>21.942,31</td><td>21.957,30</td><td class=\"DifClSb\">0,07</td><td>22.050,23</td><td>21.887,71</td><td align=\"center\">21/10/2019</td><td align=\"center\">17:38:00</td><td class=\"DifClSb Ult\">18,97</td>\n",
       "</tr><tr align=\"right\">\n",
       "<td align=\"left\" class=\"DifFlSb\">BCN TOP EURO</td><td>1.087,94</td><td>1.096,46</td><td class=\"DifClSb\">0,78</td><td>1.099,19</td><td>1.090,03</td><td align=\"center\">21/10/2019</td><td align=\"center\">17:38:01</td><td class=\"DifClSb Ult\">9,65</td>\n",
       "</tr><tr align=\"right\">\n",
       "<td align=\"left\" class=\"DifFlSb\">BCN TOP 5</td><td>1.103,41</td><td>1.113,25</td><td class=\"DifClSb\">0,89</td><td>1.116,77</td><td>1.106,03</td><td align=\"center\">21/10/2019</td><td align=\"center\">17:38:01</td><td class=\"DifClSb Ult\">11,33</td>\n",
       "</tr><tr align=\"right\">\n",
       "<td align=\"left\" class=\"DifFlSb\">BILBAO</td><td>1.438,22</td><td>1.449,10</td><td class=\"DifClSb\">0,76</td><td>1.452,37</td><td>1.440,47</td><td align=\"center\">21/10/2019</td><td align=\"center\">17:38:00</td><td class=\"DifClSb Ult\">8,95</td>\n",
       "</tr><tr align=\"right\">\n",
       "<td align=\"left\" class=\"DifFlSb\">VALENCIA</td><td>1.234,23</td><td>1.245,83</td><td class=\"DifClSb\">0,94</td><td>1.249,14</td><td>1.236,64</td><td align=\"center\">21/10/2019</td><td align=\"center\">17:38:00</td><td class=\"DifClSb Ult\">11,38</td>\n",
       "</tr><tr align=\"right\">\n",
       "<td align=\"left\" class=\"DifFlSb\">Índice TEF Apalancado X3</td><td>2.433,90</td><td>2.463,80</td><td class=\"DifClSb\">1,23</td><td>2.517,50</td><td>2.407,00</td><td align=\"center\">21/10/2019</td><td align=\"center\">17:38:01</td><td class=\"DifClBj Ult\">-10,31</td>\n",
       "</tr><tr align=\"right\">\n",
       "<td align=\"left\" class=\"DifFlSb\">Índice SAN Apalancado X3</td><td>2.118,10</td><td>2.274,80</td><td class=\"DifClSb\">7,40</td><td>2.298,60</td><td>2.168,10</td><td align=\"center\">21/10/2019</td><td align=\"center\">17:38:01</td><td class=\"DifClBj Ult\">-8,26</td>\n",
       "</tr><tr align=\"right\">\n",
       "<td align=\"left\" class=\"DifFlSb\">Índice BBVA Apalancado X3</td><td>1.290,90</td><td>1.382,80</td><td class=\"DifClSb\">7,12</td><td>1.396,20</td><td>1.298,60</td><td align=\"center\">21/10/2019</td><td align=\"center\">17:38:00</td><td class=\"DifClSb Ult\">13,63</td>\n",
       "</tr><tr align=\"right\">\n",
       "<td align=\"left\" class=\"DifFlSb\">Índice ITX Apalancado X3</td><td>5.880,30</td><td>5.923,50</td><td class=\"DifClSb\">0,73</td><td>6.010,30</td><td>5.787,10</td><td align=\"center\">21/10/2019</td><td align=\"center\">17:38:01</td><td class=\"DifClSb Ult\">92,44</td>\n",
       "</tr><tr align=\"right\">\n",
       "<td align=\"left\" class=\"DifFlSb\">Índice TEF Apalancado X5</td><td>60,20</td><td>61,40</td><td class=\"DifClSb\">1,99</td><td>63,60</td><td>59,10</td><td align=\"center\">21/10/2019</td><td align=\"center\">17:38:01</td><td class=\"DifClBj Ult\">-26,11</td>\n",
       "</tr><tr align=\"right\">\n",
       "<td align=\"left\" class=\"DifFlSb\">Índice SAN Apalancado X5</td><td>346,00</td><td>388,70</td><td class=\"DifClSb\">12,34</td><td>395,10</td><td>359,60</td><td align=\"center\">21/10/2019</td><td align=\"center\">17:38:01</td><td class=\"DifClBj Ult\">-32,60</td>\n",
       "</tr><tr align=\"right\">\n",
       "<td align=\"left\" class=\"DifFlSb\">Índice BBVA Apalancado X5</td><td>42,90</td><td>48,00</td><td class=\"DifClSb\">11,89</td><td>48,70</td><td>43,30</td><td align=\"center\">21/10/2019</td><td align=\"center\">17:38:00</td><td class=\"DifClBj Ult\">-5,70</td>\n",
       "</tr><tr align=\"right\">\n",
       "<td align=\"left\" class=\"DifFlSb\">Índice ITX Apalancado X5</td><td>1.503,70</td><td>1.522,10</td><td class=\"DifClSb\">1,22</td><td>1.559,10</td><td>1.464,00</td><td align=\"center\">21/10/2019</td><td align=\"center\">17:38:01</td><td class=\"DifClSb Ult\">145,82</td>\n",
       "</tr><tr align=\"right\">\n",
       "<td align=\"left\" class=\"DifFlBj\">Índice TEF Inverso X3</td><td>2.866,70</td><td>2.827,10</td><td class=\"DifClBj\">-1,38</td><td>2.894,00</td><td>2.763,80</td><td align=\"center\">21/10/2019</td><td align=\"center\">17:38:01</td><td class=\"DifClBj Ult\">-23,54</td>\n",
       "</tr><tr align=\"right\">\n",
       "<td align=\"left\" class=\"DifFlBj\">Índice SAN Inverso X3</td><td>613,90</td><td>567,50</td><td class=\"DifClBj\">-7,56</td><td>598,50</td><td>560,60</td><td align=\"center\">21/10/2019</td><td align=\"center\">17:38:01</td><td class=\"DifClBj Ult\">-41,20</td>\n",
       "</tr><tr align=\"right\">\n",
       "<td align=\"left\" class=\"DifFlBj\">Índice BBVA Inverso X3</td><td>1.558,20</td><td>1.444,80</td><td class=\"DifClBj\">-7,28</td><td>1.546,60</td><td>1.428,70</td><td align=\"center\">21/10/2019</td><td align=\"center\">17:38:00</td><td class=\"DifClBj Ult\">-53,99</td>\n",
       "</tr><tr align=\"right\">\n",
       "<td align=\"left\" class=\"DifFlBj\">Índice ITX Inverso X3</td><td>1.666,00</td><td>1.651,20</td><td class=\"DifClBj\">-0,89</td><td>1.689,90</td><td>1.626,60</td><td align=\"center\">21/10/2019</td><td align=\"center\">17:38:01</td><td class=\"DifClBj Ult\">-68,47</td>\n",
       "</tr><tr align=\"right\">\n",
       "<td align=\"left\" class=\"DifFlBj\">Índice TEF Inverso X5</td><td>418,40</td><td>408,80</td><td class=\"DifClBj\">-2,29</td><td>425,00</td><td>393,40</td><td align=\"center\">21/10/2019</td><td align=\"center\">17:38:01</td><td class=\"DifClBj Ult\">-43,10</td>\n",
       "</tr><tr align=\"right\">\n",
       "<td align=\"left\" class=\"DifFlBj\">Índice SAN Inverso X5</td><td>14,80</td><td>12,90</td><td class=\"DifClBj\">-12,84</td><td>14,20</td><td>12,70</td><td align=\"center\">21/10/2019</td><td align=\"center\">17:38:01</td><td class=\"DifClBj Ult\">-68,38</td>\n",
       "</tr><tr align=\"right\">\n",
       "<td align=\"left\" class=\"DifFlBj\">Índice BBVA Inverso X5</td><td>83,90</td><td>73,70</td><td class=\"DifClBj\">-12,16</td><td>82,90</td><td>72,30</td><td align=\"center\">21/10/2019</td><td align=\"center\">17:38:00</td><td class=\"DifClBj Ult\">-79,12</td>\n",
       "</tr><tr align=\"right\">\n",
       "<td align=\"left\" class=\"DifFlBj\">Índice ITX Inverso X5</td><td>189,70</td><td>186,90</td><td class=\"DifClBj\">-1,48</td><td>194,20</td><td>182,20</td><td align=\"center\">21/10/2019</td><td align=\"center\">17:38:01</td><td class=\"DifClBj Ult\">-87,97</td>\n",
       "</tr>\n",
       "</table>"
      ]
     },
     "execution_count": 20,
     "metadata": {},
     "output_type": "execute_result"
    }
   ],
   "source": [
    "table = soup.find(\"table\", id= 'ctl00_Contenido_tblÍndices')\n",
    "table"
=======
   "execution_count": 44,
   "metadata": {},
   "outputs": [],
   "source": [
    "table = soup.find(\"table\", id= 'ctl00_Contenido_tblÍndices')"
>>>>>>> upgrade
   ]
  },
  {
   "cell_type": "code",
<<<<<<< HEAD
   "execution_count": 21,
   "metadata": {},
   "outputs": [],
   "source": [
    "name =\" \"\n",
    "price =\" \"\n",
=======
   "execution_count": 124,
   "metadata": {},
   "outputs": [],
   "source": [
    "dic = {'nombre':[], 'anterior':[], 'ultimo':[], '%Dif':[],\n",
    "       'max':[], 'min':[], 'fecha':[], 'hora':[],\n",
    "      '%Dif.Año 2019':[]}\n",
    "\n",
    "name = \"\"\n",
    "price = \"\"\n",
>>>>>>> upgrade
    "n_fila = 0"
   ]
  },
  {
   "cell_type": "code",
<<<<<<< HEAD
   "execution_count": 26,
   "metadata": {},
   "outputs": [
    {
     "name": "stdout",
     "output_type": "stream",
     "text": [
      "indice:  IBEX 35®\n",
      "valor:  9.402,30\n"
     ]
    }
   ],
   "source": [
    "for fila in table.find_all('tr'):\n",
    "    if n_fila == 1:\n",
    "        n_celda = 0\n",
    "        \n",
    "        for celda in fila.find_all('td'):\n",
    "            if n_celda == 0:\n",
    "                name = celda.text\n",
    "                print('indice: ', name)\n",
    "            if n_celda == 2:\n",
    "                price = celda.text\n",
    "                print('valor: ', price)\n",
    "            n_celda = n_celda + 1\n",
    "    n_fila = n_fila + 1"
=======
   "execution_count": 125,
   "metadata": {},
   "outputs": [],
   "source": [
    "for fila in table.find_all(\"tr\"):\n",
    "    if n_fila == 1:\n",
    "        n_campo = 0\n",
    "        \n",
    "        # Como optimizo esta parte ????\n",
    "        for campo in fila.find_all('td'):\n",
    "            \n",
    "            if n_campo == 0:\n",
    "                nombre = campo.text\n",
    "                dic['nombre'].append(nombre)\n",
    "                \n",
    "            if n_campo == 1:\n",
    "                anterior = campo.text\n",
    "                dic['anterior'].append(anterior)\n",
    "            \n",
    "            if n_campo == 2:\n",
    "                ultimo = campo.text\n",
    "                dic['ultimo'].append(ultimo)\n",
    "                \n",
    "            if n_campo == 3:\n",
    "                dif = campo.text\n",
    "                dic['%Dif'].append(dif)\n",
    "            \n",
    "            if n_campo == 4:\n",
    "                Max = campo.text\n",
    "                dic['max'].append(Max)\n",
    "            \n",
    "            if n_campo == 5:\n",
    "                Min = campo.text\n",
    "                dic['min'].append(Min)\n",
    "            \n",
    "            if n_campo == 6:\n",
    "                fecha = campo.text\n",
    "                dic['fecha'].append(fecha)\n",
    "            \n",
    "            if n_campo == 7:\n",
    "                hora = campo.text\n",
    "                dic['hora'].append(hora)\n",
    "            \n",
    "            if n_campo == 8:\n",
    "                dif_19 = campo.text\n",
    "                dic['%Dif.Año 2019'].append(dif_19)\n",
    "                \n",
    "            n_campo = n_campo+1\n",
    "            \n",
    "    n_fila=+1"
   ]
  },
  {
   "cell_type": "code",
   "execution_count": 126,
   "metadata": {},
   "outputs": [
    {
     "data": {
      "text/html": [
       "<div>\n",
       "<style scoped>\n",
       "    .dataframe tbody tr th:only-of-type {\n",
       "        vertical-align: middle;\n",
       "    }\n",
       "\n",
       "    .dataframe tbody tr th {\n",
       "        vertical-align: top;\n",
       "    }\n",
       "\n",
       "    .dataframe thead th {\n",
       "        text-align: right;\n",
       "    }\n",
       "</style>\n",
       "<table border=\"1\" class=\"dataframe\">\n",
       "  <thead>\n",
       "    <tr style=\"text-align: right;\">\n",
       "      <th></th>\n",
       "      <th>nombre</th>\n",
       "      <th>anterior</th>\n",
       "      <th>ultimo</th>\n",
       "      <th>%Dif</th>\n",
       "      <th>max</th>\n",
       "      <th>min</th>\n",
       "      <th>fecha</th>\n",
       "      <th>hora</th>\n",
       "      <th>%Dif.Año 2019</th>\n",
       "    </tr>\n",
       "  </thead>\n",
       "  <tbody>\n",
       "    <tr>\n",
       "      <td>75</td>\n",
       "      <td>Índice ITX Inverso X3</td>\n",
       "      <td>1.690,30</td>\n",
       "      <td>1.745,00</td>\n",
       "      <td>3,24</td>\n",
       "      <td>1.775,50</td>\n",
       "      <td>1.680,50</td>\n",
       "      <td>23/10/2019</td>\n",
       "      <td>16:34:33</td>\n",
       "      <td>-66,68</td>\n",
       "    </tr>\n",
       "    <tr>\n",
       "      <td>76</td>\n",
       "      <td>Índice TEF Inverso X5</td>\n",
       "      <td>393,80</td>\n",
       "      <td>373,40</td>\n",
       "      <td>-5,18</td>\n",
       "      <td>403,90</td>\n",
       "      <td>362,60</td>\n",
       "      <td>23/10/2019</td>\n",
       "      <td>16:36:25</td>\n",
       "      <td>-48,02</td>\n",
       "    </tr>\n",
       "    <tr>\n",
       "      <td>77</td>\n",
       "      <td>Índice SAN Inverso X5</td>\n",
       "      <td>12,90</td>\n",
       "      <td>12,60</td>\n",
       "      <td>-2,33</td>\n",
       "      <td>13,50</td>\n",
       "      <td>12,40</td>\n",
       "      <td>23/10/2019</td>\n",
       "      <td>16:36:25</td>\n",
       "      <td>-69,12</td>\n",
       "    </tr>\n",
       "    <tr>\n",
       "      <td>78</td>\n",
       "      <td>Índice BBVA Inverso X5</td>\n",
       "      <td>74,00</td>\n",
       "      <td>72,40</td>\n",
       "      <td>-2,16</td>\n",
       "      <td>78,80</td>\n",
       "      <td>71,30</td>\n",
       "      <td>23/10/2019</td>\n",
       "      <td>16:36:00</td>\n",
       "      <td>-79,48</td>\n",
       "    </tr>\n",
       "    <tr>\n",
       "      <td>79</td>\n",
       "      <td>Índice ITX Inverso X5</td>\n",
       "      <td>194,30</td>\n",
       "      <td>204,80</td>\n",
       "      <td>5,40</td>\n",
       "      <td>210,60</td>\n",
       "      <td>192,40</td>\n",
       "      <td>23/10/2019</td>\n",
       "      <td>16:34:33</td>\n",
       "      <td>-86,82</td>\n",
       "    </tr>\n",
       "  </tbody>\n",
       "</table>\n",
       "</div>"
      ],
      "text/plain": [
       "                    nombre  anterior    ultimo   %Dif       max       min  \\\n",
       "75   Índice ITX Inverso X3  1.690,30  1.745,00   3,24  1.775,50  1.680,50   \n",
       "76   Índice TEF Inverso X5    393,80    373,40  -5,18    403,90    362,60   \n",
       "77   Índice SAN Inverso X5     12,90     12,60  -2,33     13,50     12,40   \n",
       "78  Índice BBVA Inverso X5     74,00     72,40  -2,16     78,80     71,30   \n",
       "79   Índice ITX Inverso X5    194,30    204,80   5,40    210,60    192,40   \n",
       "\n",
       "         fecha      hora %Dif.Año 2019  \n",
       "75  23/10/2019  16:34:33        -66,68  \n",
       "76  23/10/2019  16:36:25        -48,02  \n",
       "77  23/10/2019  16:36:25        -69,12  \n",
       "78  23/10/2019  16:36:00        -79,48  \n",
       "79  23/10/2019  16:34:33        -86,82  "
      ]
     },
     "execution_count": 126,
     "metadata": {},
     "output_type": "execute_result"
    }
   ],
   "source": [
    "df = pd.DataFrame(data=dic)\n",
    "df.tail()"
   ]
  },
  {
   "cell_type": "code",
   "execution_count": 105,
   "metadata": {},
   "outputs": [],
   "source": [
    "df.to_csv('bolsamadrid.csv')"
>>>>>>> upgrade
   ]
  },
  {
   "cell_type": "code",
   "execution_count": 30,
   "metadata": {},
   "outputs": [],
   "source": [
<<<<<<< HEAD
    "with open('bolsa_ibex35.csv', 'a') as csv_file:\n",
    "    writer = csv.writer(csv_file)\n",
    "    writer.writerow([name, price, datetime.now()])"
=======
    "''' with open('bolsa_ibex35.csv', 'a') as csv_file:\n",
    "    writer = csv.writer(csv_file)\n",
    "    writer.writerow([name, price, datetime.now()]) '''"
>>>>>>> upgrade
   ]
  },
  {
   "cell_type": "code",
   "execution_count": 33,
   "metadata": {},
   "outputs": [],
   "source": [
    "### https://www.aprendemachinelearning.com/ejercicio-nlp-cuentos-de-hernan-casciari-python-espanol/\n",
<<<<<<< HEAD
    "### https://www.aprendemachinelearning.com/ejemplo-web-scraping-python-ibex35-bolsa-valores/"
=======
    "### https://www.aprendemachinelearning.com/ejemplo-web-scraping-python-ibex35-bolsa-valores/\n",
    "\n",
    "\n",
    "###https://gist.github.com/vickyqian/f70e9ab3910c7c290d9d715491cde44c"
>>>>>>> upgrade
   ]
  },
  {
   "cell_type": "code",
   "execution_count": null,
   "metadata": {},
   "outputs": [],
   "source": []
  }
 ],
 "metadata": {
  "kernelspec": {
   "display_name": "Python 3",
   "language": "python",
   "name": "python3"
  },
  "language_info": {
   "codemirror_mode": {
    "name": "ipython",
    "version": 3
   },
   "file_extension": ".py",
   "mimetype": "text/x-python",
   "name": "python",
   "nbconvert_exporter": "python",
   "pygments_lexer": "ipython3",
   "version": "3.7.4"
  }
 },
 "nbformat": 4,
 "nbformat_minor": 2
}
